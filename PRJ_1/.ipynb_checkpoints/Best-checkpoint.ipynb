{
 "cells": [
  {
   "cell_type": "code",
   "execution_count": 4,
   "id": "6f20b749-7dc8-491a-8066-6cdf4403adaf",
   "metadata": {},
   "outputs": [],
   "source": [
    "import tensorflow as tf\n",
    "import numpy as np\n",
    "import keras\n",
    "from tensorflow.keras.utils import load_img, img_to_array"
   ]
  },
  {
   "cell_type": "code",
   "execution_count": 11,
   "id": "bf43e216-7b47-49d8-97b0-d82abf7cfd5f",
   "metadata": {},
   "outputs": [],
   "source": [
    "model = tf.keras.models.load_model(\"R_NR_1.h5\")"
   ]
  },
  {
   "cell_type": "code",
   "execution_count": 15,
   "id": "a1bc244f-e2c1-43ff-89c7-e6e258cee9b9",
   "metadata": {},
   "outputs": [
    {
     "name": "stdout",
     "output_type": "stream",
     "text": [
      "1/1 [==============================] - 0s 87ms/step\n",
      "1/1 [==============================] - 0s 86ms/step\n",
      "Non-Recyclable 1.0 pan.jpg\n"
     ]
    }
   ],
   "source": [
    "img = load_img('pan.jpg', target_size=(256, 256))\n",
    "img = img_to_array(img)\n",
    "img = img / 255\n",
    "img = np.expand_dims(img,axis=0)\n",
    "category = np.argmax(model.predict(img), axis=-1)\n",
    "answer = category[0]\n",
    "probability = model.predict(img)\n",
    "probability_results = 0\n",
    "\n",
    "if answer == 1:\n",
    "    answer = \"Recyclable\"\n",
    "    probability_results = probability[0][1]\n",
    "else:\n",
    "    answer = \"Non-Recyclable\"\n",
    "    probability_results = probability[0][0]\n",
    "\n",
    "answer = str(answer)\n",
    "probability_results=str(probability_results)\n",
    "\n",
    "values = [answer, probability_results, 'pan.jpg']\n",
    "print(values[0], values[1], values[2])"
   ]
  },
  {
   "cell_type": "code",
   "execution_count": null,
   "id": "31d3d580-a995-4b15-97d2-7fc62856bc16",
   "metadata": {},
   "outputs": [],
   "source": []
  }
 ],
 "metadata": {
  "kernelspec": {
   "display_name": "imageclassification",
   "language": "python",
   "name": "imageclassification"
  },
  "language_info": {
   "codemirror_mode": {
    "name": "ipython",
    "version": 3
   },
   "file_extension": ".py",
   "mimetype": "text/x-python",
   "name": "python",
   "nbconvert_exporter": "python",
   "pygments_lexer": "ipython3",
   "version": "3.9.13"
  }
 },
 "nbformat": 4,
 "nbformat_minor": 5
}
