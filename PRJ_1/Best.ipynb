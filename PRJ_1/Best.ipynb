{
 "cells": [
  {
   "cell_type": "code",
   "execution_count": 34,
   "id": "6f20b749-7dc8-491a-8066-6cdf4403adaf",
   "metadata": {},
   "outputs": [],
   "source": [
    "import tensorflow as tf\n",
    "import numpy as np\n",
    "import keras\n",
    "from tensorflow.keras.utils import load_img, img_to_array"
   ]
  },
  {
   "cell_type": "code",
   "execution_count": 35,
   "id": "bf43e216-7b47-49d8-97b0-d82abf7cfd5f",
   "metadata": {},
   "outputs": [],
   "source": [
    "model = tf.keras.models.load_model(\"R_NR_1.h5\")"
   ]
  },
  {
   "cell_type": "code",
   "execution_count": 48,
   "id": "f51a31bc-bd84-438d-8286-42ab959b85c6",
   "metadata": {},
   "outputs": [],
   "source": [
    "img = load_img('c1.jpg', target_size=(256, 256))"
   ]
  },
  {
   "cell_type": "code",
   "execution_count": 49,
   "id": "a1bc244f-e2c1-43ff-89c7-e6e258cee9b9",
   "metadata": {},
   "outputs": [],
   "source": [
    "#img = cv2.imread('bottle.jpg')\n"
   ]
  },
  {
   "cell_type": "code",
   "execution_count": 50,
   "id": "31d3d580-a995-4b15-97d2-7fc62856bc16",
   "metadata": {},
   "outputs": [],
   "source": [
    "resize = tf.image.resize(img, (256,256))"
   ]
  },
  {
   "cell_type": "code",
   "execution_count": 51,
   "id": "4d311aca-f8c7-49f7-8f23-79c52b7c8700",
   "metadata": {},
   "outputs": [
    {
     "name": "stdout",
     "output_type": "stream",
     "text": [
      "1/1 [==============================] - 0s 25ms/step\n"
     ]
    }
   ],
   "source": [
    "yhat = model.predict(np.expand_dims(resize/255, 0))"
   ]
  },
  {
   "cell_type": "code",
   "execution_count": 52,
   "id": "93d480eb-613a-4d6e-9a9c-6ba77532a707",
   "metadata": {},
   "outputs": [
    {
     "data": {
      "text/plain": [
       "array([[0.99999905]], dtype=float32)"
      ]
     },
     "execution_count": 52,
     "metadata": {},
     "output_type": "execute_result"
    }
   ],
   "source": [
    "yhat"
   ]
  },
  {
   "cell_type": "code",
   "execution_count": 53,
   "id": "e447b5c0-4643-44ce-9cc7-cd76d083b215",
   "metadata": {},
   "outputs": [
    {
     "name": "stdout",
     "output_type": "stream",
     "text": [
      "Predicted class is Recyclable\n"
     ]
    }
   ],
   "source": [
    "if yhat > 0.5: \n",
    "    print(f'Predicted class is Recyclable')\n",
    "else:\n",
    "    print(f'Predicted class is Non-Recyclable')"
   ]
  },
  {
   "cell_type": "code",
   "execution_count": null,
   "id": "46041f58-4872-4b5b-ab63-d80fa9bf4434",
   "metadata": {},
   "outputs": [],
   "source": []
  }
 ],
 "metadata": {
  "kernelspec": {
   "display_name": "imageclassification",
   "language": "python",
   "name": "imageclassification"
  },
  "language_info": {
   "codemirror_mode": {
    "name": "ipython",
    "version": 3
   },
   "file_extension": ".py",
   "mimetype": "text/x-python",
   "name": "python",
   "nbconvert_exporter": "python",
   "pygments_lexer": "ipython3",
   "version": "3.9.13"
  }
 },
 "nbformat": 4,
 "nbformat_minor": 5
}
